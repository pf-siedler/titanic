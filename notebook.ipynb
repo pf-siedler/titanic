{
  "cells": [
    {
      "metadata": {
        "collapsed": true,
        "_uuid": "8f2839f25d086af736a60e9eeb907d3b93b6e0e5",
        "_cell_guid": "b1076dfc-b9ad-4769-8c92-a6c4dae69d19",
        "trusted": false
      },
      "cell_type": "code",
      "source": "import numpy as np\nimport pandas as pd",
      "execution_count": null,
      "outputs": []
    },
    {
      "metadata": {
        "scrolled": false,
        "_uuid": "d629ff2d2480ee46fbb7e2d37f6b5fab8052498a",
        "_cell_guid": "79c7e3d0-c299-4dcb-8224-4455121ee9b0",
        "trusted": false,
        "collapsed": true
      },
      "cell_type": "code",
      "source": "\"\"\"\nFormatting data\n\n\"\"\"\ndf_train = pd.read_csv('../input/train.csv')\ndf_test = pd.read_csv('../input/test.csv')\n\ndef fill_na(df):\n    df[\"Age\"] = df[\"Age\"].fillna(df[\"Age\"].median())\n    df[\"Fare\"] = df[\"Fare\"].fillna(df[\"Fare\"].median())\n    df[\"Sex\"] = df[\"Sex\"].fillna(\"\")\n    df[\"Embarked\"] = df[\"Embarked\"].fillna(\"S\")\n    return df\n\ndef numerical_form(df):\n    df.loc[df[\"Sex\"] == \"male\", \"Sex\"] = 0\n    df.loc[df[\"Sex\"] == \"female\", \"Sex\"] = 1\n    df.loc[df[\"Embarked\"] == \"S\", \"Embarked\"] = 1\n    df.loc[df[\"Embarked\"] == \"C\", \"Embarked\"] = 2\n    df.loc[df[\"Embarked\"] == \"Q\", \"Embarked\"] = 3\n    return df\n\ndef onehot(df, columns):\n    for column in columns:\n        df = pd.concat([df, pd.get_dummies(df[column], prefix=column)], axis=1)\n        df = df.drop(column, axis=1)\n    return df\n\ndef classify_honorifics(df):\n    df[\"Honorific\"] = df[\"Name\"].str.extract(' ([A-Za-z]+).', expand=False)\n    mask = {\"Mr\": 1, \"Mrs\": 2, \"Miss\": 3, \"Master\": 4, \"Don\": 5, \"Dr\": 5, \"Mme\": 2, \"Impe\": 2, \"Ms\": 3, \"Major\": 5, \"Mlle\": 3, \"the\": 5, \"Capt\": 5, \"Col\": 5}\n    df[\"Honorific\"] = df[\"Honorific\"].map(mask)\n    df[\"Honorific\"] = df[\"Honorific\"].fillna(0)\n    df[\"Honorific\"] = df[\"Honorific\"].astype(int)\n    return df\n\ndef normalize(df, columns):\n    for column in columns:\n        df[column] = df[column] / (df[column].max() - df[column].min())\n    return df\n\ndef formatting(df):\n    df = fill_na(df)\n    df = numerical_form(df)\n    df = classify_honorifics(df)\n    df = onehot(df, [\"Pclass\", \"Embarked\", \"Honorific\"])\n    df = normalize(df, [\"Age\", \"SibSp\", \"Parch\"])\n    df = df.drop([\"Name\", \"Ticket\", \"Fare\", \"Cabin\"], axis=1)\n    return df\n\ndf_train = formatting(df_train)\ndf_test = formatting(df_test)\n\n",
      "execution_count": null,
      "outputs": []
    },
    {
      "metadata": {
        "_uuid": "4a837995069928ec6f5a16e6ca09a46dc27bd30e",
        "_cell_guid": "047b89cd-1f29-49ae-b239-14604cd12076",
        "trusted": false,
        "collapsed": true
      },
      "cell_type": "code",
      "source": "\"\"\"\n16 → 8 → 4 → 2\n\"\"\"\n\nimport sys\n\nfrom chainer import Chain, optimizers, Variable\nimport chainer.functions as F\nimport chainer.links as L\nfrom chainer import training\n\nclass TitanicChain(Chain):\n    def __init__(self):\n        super(TitanicChain, self).__init__(\n            l1 = L.Linear(16, 8),\n            l2 = L.Linear(8, 4),\n            l3 = L.Linear(4, 2))\n    \n    def forward(self, x):\n        h1 = F.relu(self.l1(x))\n        h2 = F.relu(self.l2(h1))\n        return self.l3(h2)\n\nmodel = TitanicChain()\noptimizer = optimizers.Adam()  # 最適化手法をSGDに指定\noptimizer.setup(model)\nx\nx_train = np.array(df_train.drop([\"PassengerId\", \"Survived\"], axis=1), dtype=np.float32)\nt_train = np.array(df_train[\"Survived\"], dtype=np.int32)\n\n\"\"\"\nx_test = x_train[800:890]\nt_test = t_train[800:890]\nx_train = x_train[:800]\nt_train = t_train[:800]\n\nfor epoch in range(n_epoch):\n    sum_loss = 0\n    perm = np.random.permutation(750)\n    for i in range(0, 750, batch_size):\n        x = Variable(x_train[perm[i:i+batch_size]])\n        t = Variable(t_train[perm[i:i+batch_size]])\n        y = model.forward(x)\n        model.cleargrads()\n        loss = F.softmax_cross_entropy(y, t)\n        loss.backward()\n        optimizer.update()\n        sum_loss += loss.data*batch_size\n\n    sys.stdout.write(\"\\repoch: {}, mean loss: {}\".format(epoch, sum_loss/750))\n    sys.stdout.flush()\n\n# テスト実行\ncnt = 0\nfor i in range(90):\n    x = Variable(np.array([x_test[i]], dtype=np.float32))\n    t = t_test[i]\n    y = model.forward(x)\n    y = np.argmax(y.data[0])\n    if t == y:\n        cnt += 1\n\n# 正解数と正解率を表示\nprint(cnt)\nprint(\"accuracy: {}\".format(cnt/(90)))\n\n\"\"\"",
      "execution_count": null,
      "outputs": []
    },
    {
      "metadata": {
        "_uuid": "aac3274a3126b28f8f0cc5eac764014f06f18273",
        "_cell_guid": "184e423e-39cd-4aab-ae05-88c13430d84f",
        "trusted": false,
        "collapsed": true
      },
      "cell_type": "code",
      "source": "\"\"\"\n本番\n\"\"\"\n\nmodel = TitanicChain()\noptimizer = optimizers.Adam()  # 最適化手法をSGDに指定\noptimizer.setup(model)\n\nn_epoch = 2000\nbatch_size = 50\n\nx_train = np.array(df_train.drop([\"PassengerId\", \"Survived\"], axis=1), dtype=np.float32)\nt_train = np.array(df_train[\"Survived\"], dtype=np.int32)\n\nfor epoch in range(n_epoch):\n    sum_loss = 0\n    perm = np.random.permutation(890 - batch_size)\n    for i in range(0, 890 - batch_size, batch_size):\n        x = Variable(x_train[perm[i:i+batch_size]])\n        t = Variable(t_train[perm[i:i+batch_size]])\n        y = model.forward(x)\n        model.cleargrads()\n        loss = F.softmax_cross_entropy(y, t)\n        loss.backward()\n        optimizer.update()\n        sum_loss += loss.data*batch_size\n\n    sys.stdout.write(\"\\repoch: {}, mean loss: {}\".format(epoch, sum_loss/(890 - batch_size)))\n    sys.stdout.flush()\n\n\nx_test = np.array(df_test.drop([\"PassengerId\"], axis=1), dtype=np.float32)\n\nsurvived = []\nfor i in range(418):\n    x = Variable(np.array([x_test[i]], dtype=np.float32))\n    y = model.forward(x)\n    y = np.argmax(y.data[0])\n    survived.append(y)\n\nPassengerId = np.array(df_test[\"PassengerId\"]).astype(int)\nmy_solution = pd.DataFrame(survived, PassengerId, columns = [\"Survived\"])\n\nmy_solution.to_csv(\"dnn_with_chainer.csv\", index_label = [\"PassengerId\"])",
      "execution_count": null,
      "outputs": []
    },
    {
      "metadata": {
        "collapsed": true,
        "_cell_guid": "6c1fdd86-af3f-47cd-a9bc-ac3e37cb0ff0",
        "_uuid": "d0abe02ed47b7480cbee4019a55c91461e9310fc",
        "trusted": false
      },
      "cell_type": "code",
      "source": "",
      "execution_count": null,
      "outputs": []
    }
  ],
  "metadata": {
    "kernelspec": {
      "display_name": "Python 3",
      "language": "python",
      "name": "python3"
    },
    "language_info": {
      "mimetype": "text/x-python",
      "version": "3.6.5",
      "name": "python",
      "nbconvert_exporter": "python",
      "file_extension": ".py",
      "codemirror_mode": {
        "version": 3,
        "name": "ipython"
      },
      "pygments_lexer": "ipython3"
    }
  },
  "nbformat": 4,
  "nbformat_minor": 1
}